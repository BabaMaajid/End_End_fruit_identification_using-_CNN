{
 "cells": [
  {
   "cell_type": "code",
   "execution_count": 1,
   "id": "9993e92b",
   "metadata": {},
   "outputs": [],
   "source": [
    "#Importing Necessary Libaries\n",
    "import tensorflow as tf\n",
    "from tensorflow.keras import models,layers\n",
    "import matplotlib.pyplot as plt\n"
   ]
  },
  {
   "cell_type": "code",
   "execution_count": 2,
   "id": "b8f3e8c1",
   "metadata": {},
   "outputs": [],
   "source": [
    "directory = r'D:\\datasets\\dataset\\dataset\\img'"
   ]
  },
  {
   "cell_type": "code",
   "execution_count": 18,
   "id": "a54395cb",
   "metadata": {},
   "outputs": [],
   "source": [
    "import pandas as pd"
   ]
  },
  {
   "cell_type": "code",
   "execution_count": 14,
   "id": "9f09f6d7",
   "metadata": {},
   "outputs": [
    {
     "ename": "SyntaxError",
     "evalue": "positional argument follows keyword argument (Temp/ipykernel_3644/3508097469.py, line 1)",
     "output_type": "error",
     "traceback": [
      "\u001b[1;36m  File \u001b[1;32m\"C:\\Users\\91979\\AppData\\Local\\Temp/ipykernel_3644/3508097469.py\"\u001b[1;36m, line \u001b[1;32m1\u001b[0m\n\u001b[1;33m    f = open(r'D:\\datasets\\dataset\\dataset\\gt\\words.txt',encoding='utf-8','r')\u001b[0m\n\u001b[1;37m                                                                             ^\u001b[0m\n\u001b[1;31mSyntaxError\u001b[0m\u001b[1;31m:\u001b[0m positional argument follows keyword argument\n"
     ]
    }
   ],
   "source": [
    " f = open(r'D:\\datasets\\dataset\\dataset\\gt\\words.txt',encoding='utf-8',) "
   ]
  },
  {
   "cell_type": "code",
   "execution_count": 17,
   "id": "197cb8a8",
   "metadata": {},
   "outputs": [
    {
     "name": "stdout",
     "output_type": "stream",
     "text": [
      "<built-in method readlines of _io.TextIOWrapper object at 0x000002347E9FAE10>\n"
     ]
    }
   ],
   "source": [
    "line= f.readlines\n",
    "print(line)  "
   ]
  },
  {
   "cell_type": "code",
   "execution_count": 78,
   "id": "b8d703cc",
   "metadata": {},
   "outputs": [],
   "source": [
    "labels = pd.read_table(r'D:\\datasets\\dataset\\dataset\\gt\\words.txt',header=None,index_col=False)"
   ]
  },
  {
   "cell_type": "code",
   "execution_count": 79,
   "id": "6c28fc1c",
   "metadata": {},
   "outputs": [],
   "source": [
    "for i in labels:\n",
    "    label_df= labels[i]\n"
   ]
  },
  {
   "cell_type": "code",
   "execution_count": 80,
   "id": "df47b12a",
   "metadata": {},
   "outputs": [
    {
     "data": {
      "text/plain": [
       "0                 ks01-000a-00-00 یِہ\n",
       "1                ks01-000a-00-01 چُھہ\n",
       "2               ks01-000a-00-02 جناب!\n",
       "3          ks01-000a-00-03 اَولادانہٕ\n",
       "4              ks01-000a-00-04 شَفقٔژ\n",
       "                     ...             \n",
       "99920      ks55-000t-00-0882 تُجرباتن\n",
       "99921         ks55-000t-00-0883 ہٕنٛز\n",
       "99922        ks55-000t-00-0884 وکھنےَ\n",
       "99923         ks55-000t-00-0885 کرنٕچ\n",
       "99924    ks55-000t-00-0886 دعوت\\r\\n']\n",
       "Name: 0, Length: 99925, dtype: object"
      ]
     },
     "execution_count": 80,
     "metadata": {},
     "output_type": "execute_result"
    }
   ],
   "source": [
    "label_df"
   ]
  },
  {
   "cell_type": "code",
   "execution_count": null,
   "id": "7e2b7d1f",
   "metadata": {},
   "outputs": [],
   "source": []
  },
  {
   "cell_type": "code",
   "execution_count": 22,
   "id": "41fa25da",
   "metadata": {},
   "outputs": [],
   "source": [
    "import os"
   ]
  },
  {
   "cell_type": "code",
   "execution_count": 23,
   "id": "ddf5a19e",
   "metadata": {},
   "outputs": [],
   "source": [
    "image_file = os.listdir(r'D:\\datasets\\ks01-000a')"
   ]
  },
  {
   "cell_type": "code",
   "execution_count": 65,
   "id": "934238b6",
   "metadata": {},
   "outputs": [],
   "source": [
    "def convert_to_float(x):\n",
    "    tokens = x.split(' ')\n",
    "    return tokens[1]"
   ]
  },
  {
   "cell_type": "code",
   "execution_count": 74,
   "id": "f6ee68f6",
   "metadata": {},
   "outputs": [],
   "source": [
    "labels_1=labels[0].apply(convert_to_float\n",
    "                        )"
   ]
  },
  {
   "cell_type": "code",
   "execution_count": 70,
   "id": "bd284b03",
   "metadata": {},
   "outputs": [],
   "source": [
    "def convert_to_float1(x):\n",
    "    tokens = x.split(' ')\n",
    "    return tokens[1]"
   ]
  },
  {
   "cell_type": "code",
   "execution_count": 75,
   "id": "e3df44de",
   "metadata": {},
   "outputs": [
    {
     "data": {
      "text/plain": [
       "0               یِہ\n",
       "1              چُھہ\n",
       "2             جناب!\n",
       "3        اَولادانہٕ\n",
       "4            شَفقٔژ\n",
       "            ...    \n",
       "99920      تُجرباتن\n",
       "99921         ہٕنٛز\n",
       "99922        وکھنےَ\n",
       "99923         کرنٕچ\n",
       "99924    دعوت\\r\\n']\n",
       "Name: 0, Length: 99925, dtype: object"
      ]
     },
     "execution_count": 75,
     "metadata": {},
     "output_type": "execute_result"
    }
   ],
   "source": [
    "labels_1"
   ]
  },
  {
   "cell_type": "code",
   "execution_count": 54,
   "id": "72a5d383",
   "metadata": {},
   "outputs": [],
   "source": [
    "labels_1.to_csv('ut.txt',sep='\\n')"
   ]
  },
  {
   "cell_type": "code",
   "execution_count": null,
   "id": "5eb05ba8",
   "metadata": {},
   "outputs": [],
   "source": []
  }
 ],
 "metadata": {
  "kernelspec": {
   "display_name": "Python 3 (ipykernel)",
   "language": "python",
   "name": "python3"
  },
  "language_info": {
   "codemirror_mode": {
    "name": "ipython",
    "version": 3
   },
   "file_extension": ".py",
   "mimetype": "text/x-python",
   "name": "python",
   "nbconvert_exporter": "python",
   "pygments_lexer": "ipython3",
   "version": "3.9.7"
  }
 },
 "nbformat": 4,
 "nbformat_minor": 5
}
